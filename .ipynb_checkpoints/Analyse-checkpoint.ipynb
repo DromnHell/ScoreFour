{
 "cells": [
  {
   "cell_type": "code",
   "execution_count": null,
   "id": "b9e10df1-4700-4b57-b186-ec64eb4fae49",
   "metadata": {},
   "outputs": [],
   "source": []
  }
 ],
 "metadata": {
  "kernelspec": {
   "display_name": "Python 3 (ipykernel)",
   "language": "python",
   "name": "python3"
  },
  "language_info": {
   "codemirror_mode": {
    "name": "ipython",
    "version": 3
   },
   "file_extension": ".py",
   "mimetype": "text/x-python",
   "name": "python",
   "nbconvert_exporter": "python",
   "pygments_lexer": "ipython3",
   "version": "3.10.2"
  }
 },
 "nbformat": 4,
 "nbformat_minor": 5
}

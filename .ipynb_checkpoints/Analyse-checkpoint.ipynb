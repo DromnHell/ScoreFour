{
 "cells": [
  {
   "cell_type": "markdown",
   "id": "a53ab330-81cc-4143-89f6-ec287600a019",
   "metadata": {
    "tags": []
   },
   "source": [
    "## Représentation du jeu\n",
    "\n",
    "**Grille du jeu** : la grille est représentée par une liste de listes de listes. La première liste contient quatre listes correspondant aux couches verticales de la grille. Chacune de ces listes contient quatre liste correspondant aux colonnes de ces couches verticales. Chacune de ces listes contient *None* si l'emplacement de la colonnes est vide, *0* si l'emplacement contient le pion du joueur 0, *1* si l'emplacement contient le pion du joueur 1.\n",
    "\n",
    "[[[None, None, None, None], [None, None, None, None], [None, None, None, None], [None, None, None, None]], [[None, None, None, None], [None, None, None, None], [None, None, None, None], [None, None, None, None]], [[None, None, None, None], [None, None, None, None], [None, None, None, None], [None, None, None, None]], [[0, None, None, None], [None, None, None, None], [None, None, None, None], [None, None, None, None]]]\n",
    "\n",
    "**Mouvement** : un mouvement est représenté par un tuple contenant la cordonnée x, y, z du coup qui est joué.\n",
    "\n",
    "**Objectif** : alligner 4 pions de la même couleur."
   ]
  },
  {
   "cell_type": "markdown",
   "id": "069ec149-cbb2-42f6-a75f-df92291924d4",
   "metadata": {
    "tags": []
   },
   "source": [
    "## Algorithme min-max avec élagage alpha-beta pruning\n",
    "\n",
    "### Méthodes\n",
    "\n",
    "#### Fonction d'évaluation utilisée\n",
    "\n",
    "Pour un jeu à deux joueurs, l'algorithme min-max permet de trouver le meilleur coup possible pour un joueur. Il explore tous les mouvements possibles de chaque joueur en alternance, jusqu'à une certaine profondeur, en utilisant une fonction d'évaluation. L'algorithme min-max propose une méthode brute force, qui peut être améliorée par des techniques d'optimisation telles que l'élagage alpha-beta. L'élagage alpha-beta permet en effet de réduire le nombre de nœuds évalués dans un arbre de recherche en élaguant les branches qui ne peuvent pas conduire à une solution optimale. \n",
    "\n",
    "Pour modifier la performance de l'algorithme, il est possible de modifier la profondeur maximum de la recherche dans l'arbre.\n",
    "\n",
    "#### Fonction d'évaluation utilisée\n",
    "\n",
    "La fonction d'évaluation que nous avons utilisés permet d'évaluer la qualité d'un état de jeu donné. Le principe est le suivant :\n",
    "\n",
    "Pour chaque coup joué ou simulé, on identifie les segments (lignes, colonnes, diagonales) se croisant au niveau du pion joué, ainsi que ceux se croisant au niveau de la case située au dessus de celui-ci. Pour chacun de ces segments, on compatbilise ensuite le nombre de pions blancs (premier joueur), noirs (second joueur) et de cases vides présents dans une fenêtre glissante dont la taille correspond au nombre de pions a aligner pour gagner. Plus la fenêtre contient un ratio \"pions blancs / case vide\" élévé, plus on attribue un score positif à la fenêtre, et plus elle contient un ratio \"pions noirs / case vide\" élévé, plus on attribue un score négatif à la fenêtre. La distribution des scores suit une fonction exponentielle. Les scores de tous les segments identifiés sont finalement évalués, ce qui nous permet d'avoir une évaluation du coup joué / simulé, et donc l'état du jeu.\n",
    "\n",
    "En utilisant cette fonction d'évaluation, l'algorithme min-max fait en sorte que les blancs maximisent ce score tandis que les noirs cherchent à le minimiser.\n",
    "\n",
    "#### Limites\n",
    "\n",
    "* La fonction d'évaluation utilisée peut rapidement devenir coûteuse en ressource calculatoire, dépendament de la taille de la grille, mais aussi de la condition de victoire. En effet, plus le nombre de pions à alligner est inférieur à la longueur de la ligne à évaluer, plus cela fait de fenêtre de segments à calculer.\n",
    "\n",
    "* L'IA considère que son adversaire joue de manière aussi optimale que lui, et cela peut donner lieu à des comportements particuliers. Par exemple, lorsque l'IA a calculé qu'elle allait perdre quoi qu'elle fasse, elle n'essaie plus de contrer l'adversaire. Or, si son adversaire était un humain, celui-ci pourrait faire une erreur aux tours suivants, et manquer sa victoire. Idéalement, l'IA devrait donc contrer quoi qu'il arrive.\n",
    "\n",
    "#### Pistes d'amélioration\n",
    "\n",
    "On pourrait utiliser un ordre de recherche heuristique pour explorer en priorité les coups les plus prometteurs, ce qui peut permettre de trouver rapidement des solutions de bonne qualité.\n",
    "\n",
    "Plusieurs autres heuristiques pourrait être utilisées et combiner pour évaluer la qualité d'un état donné :\n",
    "\n",
    "* Menace : Donnez un score plus élevé aux positions qui menacent de former une rangée, une colonne ou une diagonale de pions.\n",
    "* Mobilité : Donnez un score plus élevé aux positions qui permettent à un joueur de jouer plus de coups au tour suivant.\n",
    "* Contrôle du centre : Donnez un score plus élevé aux positions qui contrôlent le centre du plateau.\n",
    "* Éloignement : Donnez un score plus élevé aux positions qui sont plus éloignées des pions de l'adversaire.\n",
    "* Points de force : Donnez un score plus élevé aux positions qui ont plus de pions placés dans des emplacements stratégiques qui peuvent former plusieurs alignements.\n",
    "\n",
    "### Résultats\n",
    "\n",
    "Player 0 (depth 3) VS Player 1 (depth 4) -> 7 / 3. Average game length : 44.7 moves\n",
    "\n",
    "Player 0 (depth 4) VS Player 1 (depth 3) -> 4 / 6. Average game length : 47.6 moves"
   ]
  },
  {
   "cell_type": "code",
   "execution_count": null,
   "id": "470f5159-b38d-49a6-94c4-f5c3cafd7dbe",
   "metadata": {},
   "outputs": [],
   "source": []
  }
 ],
 "metadata": {
  "kernelspec": {
   "display_name": "Python 3 (ipykernel)",
   "language": "python",
   "name": "python3"
  },
  "language_info": {
   "codemirror_mode": {
    "name": "ipython",
    "version": 3
   },
   "file_extension": ".py",
   "mimetype": "text/x-python",
   "name": "python",
   "nbconvert_exporter": "python",
   "pygments_lexer": "ipython3",
   "version": "3.10.2"
  },
  "vscode": {
   "interpreter": {
    "hash": "2665ad98aff51fb9107f65de2b3eb15acb6958379b9e4c3b037730b6671df624"
   }
  }
 },
 "nbformat": 4,
 "nbformat_minor": 5
}

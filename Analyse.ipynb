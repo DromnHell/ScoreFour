{
 "cells": [
  {
   "cell_type": "markdown",
   "id": "4ca4d4e0-2dbd-4870-b972-f979222457d5",
   "metadata": {},
   "source": [
    "## Espaces d'action et d'états\n",
    "\n",
    "**Grille du jeu** :\n",
    "* chaque pilier de la grille de jeu à une hauteur h = 4 cases.\n",
    "* la grille de jeu contient *col* * *nb li* = 4 * 4 = 16 piliers.\n",
    "* la grille de jeu contient *nb piliers* * h = 16 * 4 = 64 cases.\n",
    "\n",
    "**Espace d'action** : *nb col* * *nb li* = 4 * 4 = 16\n",
    "\n",
    "**Espace d'états** :\n",
    "* chaque case peut contenir un pion noir, un pion blanc ou être vide tant qu'elle est au dessus de tous les autres pion de son pilier.\n",
    "* si le pilier possède x pions, il y a donc 2^x configurations possibles. Si h = 4, alors chaque pilier possède 2^(h+1)-1 = 2^(5)-1 = 31 configurations possibles.\n",
    "* considérant le nombre de piliers, la grille possède donc 31^16 configurations possibles.\n",
    "* Pour connaitre l'espace d'état, il faut retirer à ce compte toutes les solutions incorrectes ou redondantes :\n",
    "    - les solutions ne prenant en compte la symétrie du jeu,\n",
    "    - les solutions considérant que le nombre de pièces de chaque couleur est arbitraire alors qu'il est égal,\n",
    "    - les solutions considérant plusieurs lignes / colonnes / diagonales remplies entièrement de pions noirs ou de pions blancs.\n",
    "* Même en retirant toutes ces solutions incorrectes ou redondates, l'espace d'état reste assez grand. Si l'on doit appliquer des solutions d'apprentissage par renforcement pour créer une IA, nous partirons plutôt sur des algorithmes utilisant des aproximateurs de fonction (réseaux de neurones) plutôt que des algorithmes tabulaires.\n"
   ]
  },
  {
   "cell_type": "markdown",
   "id": "a53ab330-81cc-4143-89f6-ec287600a019",
   "metadata": {
    "tags": []
   },
   "source": [
    "## Représentation du jeu\n",
    "\n",
    "**Grille du jeu** : la grille est représentée par une liste de listes de listes. La première liste contient quatre listes correspondant aux lignes de la grille. Chacune de ces listes contient quatre liste correspondant aux colonnes de la grille. Chacune de ces listes contient *None* si l'emplacement de la grille est vide, *0* si l'emplacement contient le pion du joueur 0, *1* si l'emplacement continent le pion du joueur 1.\n",
    "\n",
    "[[[None, None, None, None], [None, None, None, None], [None, None, None, None], [None, None, None, None]], [[None, None, None, None], [None, None, None, None], [None, None, None, None], [None, None, None, None]], [[None, None, None, None], [None, None, None, None], [None, None, None, None], [None, None, None, None]], [[0, None, None, None], [None, None, None, None], [None, None, None, None], [None, None, None, None]]]\n",
    "\n",
    "**Mouvement** : un mouvement est représenté par un tuple contenant la cordonnée x, y, z du coup qui est joué\n",
    "\n",
    "(x, y, z)\n"
   ]
  },
  {
   "cell_type": "markdown",
   "id": "069ec149-cbb2-42f6-a75f-df92291924d4",
   "metadata": {
    "tags": []
   },
   "source": [
    "## Solutions d'IA\n",
    "\n",
    "### Algorithme Alpha-Beta Pruning\n",
    "\n",
    "Cette solution d'IA utilise un algorithme alpha-beta pruning pour rechercher dans un arbre de décision la meilleure solution à jouer. La profondeur de la recherche dans l'arbre ainsi que la fonction d'évaluation utilisée est modifiable.\n",
    "\n",
    "#### Fonction d'évaluation n°1\n",
    "\n",
    "Cette fonction d'évaluation évalue la qualité du coup joué par l'IA. La valeur de retour est un nombre qui indique si le coup joué permet à l'IA de gagner.\n",
    "\n",
    "#### Fonction d'évaluation n°2\n",
    "\n",
    "Cette fonction évalue la qualité d'un état de jeu donné pour le joueur donné. La valeur de retour est un nombre qui indique à quel point cet état de jeu est favorable pour le joueur. Les valeurs positives sont bonnes pour le joueur, tandis que les valeurs négatives sont bonnes pour l'adversaire.\n"
   ]
  },
  {
   "cell_type": "markdown",
   "id": "6b838c9b-9980-4de3-ae00-e29fb523cd74",
   "metadata": {},
   "source": [
    "## TO DO\n",
    "\n",
    "Action aléatoire si plusieurs meilleures actions\n",
    "\n",
    "Jouer plutôt au centre au début\n",
    "\n",
    "Diminuer le score des contre, notamment si 3 pions potentiels de l'adversaire\n",
    "\n",
    "Ne pas jouer dans une direction si l'on est certain de ne pas pouvoir remplir la ligne"
   ]
  },
  {
   "cell_type": "code",
   "execution_count": null,
   "id": "73123e09-c484-4ab9-8931-2fa71c35cb4a",
   "metadata": {},
   "outputs": [],
   "source": []
  }
 ],
 "metadata": {
  "kernelspec": {
   "display_name": "Python 3 (ipykernel)",
   "language": "python",
   "name": "python3"
  },
  "language_info": {
   "codemirror_mode": {
    "name": "ipython",
    "version": 3
   },
   "file_extension": ".py",
   "mimetype": "text/x-python",
   "name": "python",
   "nbconvert_exporter": "python",
   "pygments_lexer": "ipython3",
   "version": "3.10.2"
  }
 },
 "nbformat": 4,
 "nbformat_minor": 5
}
